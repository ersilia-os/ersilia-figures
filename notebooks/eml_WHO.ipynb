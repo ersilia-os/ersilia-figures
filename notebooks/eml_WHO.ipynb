{
 "cells": [
  {
   "cell_type": "code",
   "execution_count": null,
   "metadata": {},
   "outputs": [],
   "source": [
    "import pandas as pd\n",
    "import os\n",
    "DATAPATH = \"../data\"\n",
    "FIGUREPATH = \"../figures\"\n",
    "\n",
    "#clean original dataset removing duplicates and \"removed\" drugs\n",
    "df = pd.read_csv(os.path.join(DATAPATH, \"eml_original.tsv\"), sep=\"\\t\")\n",
    "print(len(df))\n",
    "df.drop_duplicates(subset=\"Medicine name\", keep=\"first\", inplace=True)\n",
    "df=df[df[\"Status\"]!= \"Removed\"]\n",
    "print(len(df))"
   ]
  },
  {
   "cell_type": "code",
   "execution_count": null,
   "metadata": {},
   "outputs": [],
   "source": [
    "drugs = df[\"Medicine name\"].tolist()\n",
    "for i,d in enumerate(drugs):\n",
    "    if \"isoniazid + pyridoxine + sulfamethoxazole + trimethoprim\" in d:\n",
    "        print(d)"
   ]
  },
  {
   "cell_type": "code",
   "execution_count": null,
   "metadata": {},
   "outputs": [],
   "source": [
    "drugs = df[\"Medicine name\"].tolist()\n",
    "drugs_ind = []\n",
    "idx=[]\n",
    "for i,d in enumerate(drugs):\n",
    "    if \" + \" in d:\n",
    "        idx += [i]\n",
    "        d1 = d.split(\" +\")[0]\n",
    "        d2 = d.split(\"+ \")[1]\n",
    "        drugs_ind += [d1]\n",
    "        if \"+\" in d2:\n",
    "            d3 = d2.split(\" +\")[0]\n",
    "            d4 = d2.split(\"+ \")[1]\n",
    "            drugs_ind += [d3]\n",
    "            if \"+\" in d4:\n",
    "                d5 = d4.split(\" +\")[0]\n",
    "                d6 = d4.split(\"+ \")[1]\n",
    "                drugs_ind += [d5]\n",
    "                drugs_ind += [d6]\n",
    "            else:\n",
    "                drugs_ind += [d4]\n",
    "        else:\n",
    "            drugs_ind += [d2]\n",
    "\n",
    "drugs = [d for j,d in enumerate(drugs)if j not in set(idx)]\n",
    "drugs = set(drugs + [d for d in drugs_ind])\n",
    "drugs = sorted((drugs))"
   ]
  },
  {
   "cell_type": "code",
   "execution_count": null,
   "metadata": {},
   "outputs": [],
   "source": [
    "from ersilia.utils.identifiers.compound import CompoundIdentifier #requires Ersilia installed\n",
    "\n",
    "smiles = []\n",
    "for x in drugs:\n",
    "    print(x)\n",
    "    s=CompoundIdentifier.chemical_identifier_resolver(x)\n",
    "    if s is None:\n",
    "        print(\"no smiles found\")\n",
    "        smiles += [\"NaN\"]\n",
    "    else:\n",
    "        print(s)\n",
    "        smiles += [s]\n",
    "\n",
    "drug2smi = list(zip(drugs, smiles))\n",
    "df = pd.DataFrame(drug2smi, columns=[\"drugs\", \"smiles\"])\n",
    "\n",
    "#save list and curate by hand missing smiles\n",
    "df.to_csv(os.path.join(DATAPATH, \"eml_list.csv\"),index=False)"
   ]
  },
  {
   "cell_type": "code",
   "execution_count": null,
   "metadata": {},
   "outputs": [],
   "source": [
    "from rdkit import Chem\n",
    "\n",
    "df = pd.read_csv(os.path.join(DATAPATH, \"eml_curated.csv\"))\n",
    "\n",
    "invalid_idx = []\n",
    "can_s = []\n",
    "for i,s in enumerate(df[\"smiles\"].tolist()):\n",
    "    print(s)\n",
    "    try:\n",
    "        mol = Chem.MolFromSmiles(s)\n",
    "    except:\n",
    "        mol=None    \n",
    "    print(mol)\n",
    "    if mol is None:\n",
    "        invalid_idx += [i]\n",
    "    else:\n",
    "        cs = Chem.MolToSmiles(mol)\n",
    "        can_s += [cs]"
   ]
  },
  {
   "cell_type": "code",
   "execution_count": null,
   "metadata": {},
   "outputs": [],
   "source": [
    "df.drop(index=invalid_idx, axis=0, inplace=True)\n",
    "df[\"can_smiles\"] = can_s\n",
    "df.to_csv(os.path.join(DATAPATH, \"eml_canonical.csv\"), index=False)"
   ]
  }
 ],
 "metadata": {
  "kernelspec": {
   "display_name": "Python 3.7.11 ('ersilia')",
   "language": "python",
   "name": "python3"
  },
  "language_info": {
   "codemirror_mode": {
    "name": "ipython",
    "version": 3
   },
   "file_extension": ".py",
   "mimetype": "text/x-python",
   "name": "python",
   "nbconvert_exporter": "python",
   "pygments_lexer": "ipython3",
   "version": "3.7.13"
  },
  "orig_nbformat": 4,
  "vscode": {
   "interpreter": {
    "hash": "2fcf5f29048189ce1662fd3d9352ad3160df351476cd217be8e5bfa90a28df60"
   }
  }
 },
 "nbformat": 4,
 "nbformat_minor": 2
}
