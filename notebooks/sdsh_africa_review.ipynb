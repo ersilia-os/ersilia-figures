{
 "cells": [
  {
   "cell_type": "markdown",
   "metadata": {},
   "source": [
    "# State of Data Science for Health In Africa   \n",
    "\n",
    "This notebook contains the processing of the data from the WHO [Global Observatory on Health R&D](https://www.who.int/observatories/global-observatory-on-health-research-and-development/monitoring) for the publication of the State of Data Science for Health in Africa from the [NIH collection](https://www.fic.nih.gov/About/center-global-health-studies/Pages/state-of-data-science-for-health-in-africa.aspx) with a focus on drug discovery and infectious diseases.\n",
    "\n",
    "Please see terms of [use](https://cdn.who.int/media/docs/default-source/global-observatory-on-health-r-d/global-rd-observatory-conditions-of-use.pdf?sfvrsn=8b89e836_4)"
   ]
  },
  {
   "cell_type": "code",
   "execution_count": 1,
   "metadata": {},
   "outputs": [],
   "source": [
    "import pandas as pd\n",
    "import os\n",
    "import textwrap\n",
    "\n",
    "import stylia as st\n",
    "from stylia import NamedColors\n",
    "from stylia import ContinuousColorMap\n",
    "from stylia import TWO_COLUMNS_WIDTH\n",
    "\n",
    "DATAPATH = \"../data/global_obs_health\"\n",
    "\n",
    "\n",
    "named_colors = NamedColors()\n",
    "red = named_colors.get('red')\n",
    "blue = named_colors.get('blue')\n",
    "gray = named_colors.get('gray')"
   ]
  },
  {
   "cell_type": "code",
   "execution_count": 5,
   "metadata": {},
   "outputs": [
    {
     "data": {
      "text/plain": [
       "['#5F4690',\n",
       " '#1D6996',\n",
       " '#38A6A5',\n",
       " '#0F8554',\n",
       " '#73AF48',\n",
       " '#EDAD08',\n",
       " '#E17C05',\n",
       " '#CC503E',\n",
       " '#94346E']"
      ]
     },
     "execution_count": 5,
     "metadata": {},
     "output_type": "execute_result"
    }
   ],
   "source": [
    "import palettable\n",
    "palettable.cartocolors.qualitative.Prism_9.hex_colors"
   ]
  },
  {
   "cell_type": "code",
   "execution_count": 6,
   "metadata": {},
   "outputs": [],
   "source": [
    "colors = ['#5F4690','#1D6996', '#38A6A5', '#0F8554', '#73AF48', '#EDAD08', '#E17C05', '#CC503E','#94346E']"
   ]
  },
  {
   "cell_type": "markdown",
   "metadata": {},
   "source": [
    "## Capacity for research"
   ]
  },
  {
   "cell_type": "markdown",
   "metadata": {},
   "source": [
    "### Funding\n",
    "\n",
    "The funding landscape is limited in scope, and it shows over 50% of the funds for neglected disease research go to the US, which might be an overtstatement. No funding in Africa - this is not correct: https://www.who.int/observatories/global-observatory-on-health-research-and-development/monitoring/distribution-of-r-d-funding-flows-for-neglected-diseases-by-country-funder-recipient-organization.\n",
    "\n",
    "We can use the [number of grants](https://www.who.int/observatories/global-observatory-on-health-research-and-development/monitoring/number-of-grants-for-biomedical-research-by-funder-type-of-grant-duration-and-recipients) by recipient's WHO region and income group from the 10 major funders, selecting \"communicable, maternal and neonatal conditions\"\n"
   ]
  },
  {
   "cell_type": "code",
   "execution_count": 33,
   "metadata": {},
   "outputs": [
    {
     "data": {
      "text/plain": [
       "<BarContainer object of 6 artists>"
      ]
     },
     "execution_count": 33,
     "metadata": {},
     "output_type": "execute_result"
    },
    {
     "data": {
      "image/png": "[encoded data removed]",
      "text/plain": [
       "<Figure size 354.5x250 with 1 Axes>"
      ]
     },
     "metadata": {},
     "output_type": "display_data"
    }
   ],
   "source": [
    "data = {\"Europe\":1742,\n",
    "       \"Eastern Mediterranean\": 18,\n",
    "       \"Western Pacific\": 78,\n",
    "       \"Americas\": 11407,\n",
    "       \"South-East Asia\": 32,\n",
    "       \"Africa\": 391}\n",
    "\n",
    "fig, axs = st.create_figure(1,1, width=(TWO_COLUMNS_WIDTH/2), height=2.5)\n",
    "ax = axs[0]\n",
    "x = [textwrap.fill(label, 10) for label in data.keys()]\n",
    "ax.bar(x, data.values(), color=colors[:7])"
   ]
  },
  {
   "cell_type": "markdown",
   "metadata": {},
   "source": [
    "### Researchers\n",
    "\n",
    "We use the measurement of FTE per million inhabitants of health researchers aggregated by WHO region (82 countries in total analysed). Data from [March 2023](https://www.who.int/observatories/global-observatory-on-health-research-and-development/indicators/health-researchers-in-full-time-equivalent-per-million-inhabitants-by-who-region-first-set-of-charts). Data expressed in weighted average of FTE per million population\n",
    "\n",
    "Africa has significantly fewer researchers, yet most of its researchers are actually [focused on health](https://www.who.int/observatories/global-observatory-on-health-research-and-development/monitoring/health-researchers-in-full-time-equivalent-as-a-proportion-of-all-researchers)"
   ]
  },
  {
   "cell_type": "code",
   "execution_count": 10,
   "metadata": {},
   "outputs": [
    {
     "data": {
      "text/plain": [
       "<BarContainer object of 6 artists>"
      ]
     },
     "execution_count": 10,
     "metadata": {},
     "output_type": "execute_result"
    },
    {
     "data": {
      "image/png": "[encoded data removed]",
      "text/plain": [
       "<Figure size 709x250 with 2 Axes>"
      ]
     },
     "metadata": {},
     "output_type": "display_data"
    }
   ],
   "source": [
    "fte = {\"Europe\":221,\n",
    "       \"Eastern Mediterranean\": 72,\n",
    "       \"Western Pacific\": 37,\n",
    "       \"Americas\": 21,\n",
    "       \"South-East Asia\": 10,\n",
    "       \"Africa\":6}\n",
    "\n",
    "perc_health = {\"Europe\":11,\n",
    "       \"Eastern Mediterranean\": 14,\n",
    "       \"Western Pacific\": 12,\n",
    "       \"Americas\": 11,\n",
    "       \"South-East Asia\": 6,\n",
    "       \"Africa\":15}\n",
    "\n",
    "fig, axs = st.create_figure(1,2, width=(TWO_COLUMNS_WIDTH), height=2.5)\n",
    "ax = axs[0]\n",
    "x = [textwrap.fill(label, 10) for label in fte.keys()]\n",
    "ax.bar(x, fte.values(), color=colors[:7])\n",
    "ax = axs[1]\n",
    "x = [textwrap.fill(label, 10) for label in perc_health.keys()]\n",
    "ax.bar(x, perc_health.values(), color=colors[:7])"
   ]
  },
  {
   "cell_type": "markdown",
   "metadata": {},
   "source": [
    "### Research institutions\n",
    "\n",
    "Higher education institutions offering health-related disciplines. [Data](https://www.who.int/observatories/global-observatory-on-health-research-and-development/monitoring/worldwide-status-of-higher-education-institutions-offering-disciplines-related-to-research-for-health) from 2023 available for 182 countries, expressed as weighted average per million population"
   ]
  },
  {
   "cell_type": "code",
   "execution_count": 32,
   "metadata": {},
   "outputs": [
    {
     "data": {
      "text/plain": [
       "<BarContainer object of 6 artists>"
      ]
     },
     "execution_count": 32,
     "metadata": {},
     "output_type": "execute_result"
    },
    {
     "data": {
      "image/png": "[encoded data removed]",
      "text/plain": [
       "<Figure size 354.5x250 with 1 Axes>"
      ]
     },
     "metadata": {},
     "output_type": "display_data"
    }
   ],
   "source": [
    "data = {\"Europe\":0.5244,\n",
    "       \"Eastern Mediterranean\": 0.1517,\n",
    "       \"Western Pacific\": 0.1879,\n",
    "       \"Americas\": 0.6095,\n",
    "       \"South-East Asia\": 0.1979,\n",
    "       \"Africa\": 0.1346}\n",
    "\n",
    "fig, axs = st.create_figure(1,1, width=(TWO_COLUMNS_WIDTH/2), height=2.5)\n",
    "ax = axs[0]\n",
    "x = [textwrap.fill(label, 10) for label in data.keys()]\n",
    "ax.bar(x, data.values(), color=colors[:7])"
   ]
  },
  {
   "cell_type": "markdown",
   "metadata": {},
   "source": [
    "## Research Outputs"
   ]
  },
  {
   "cell_type": "markdown",
   "metadata": {},
   "source": [
    "### Scientific publications\n",
    "\n",
    "[Publications](https://www.who.int/observatories/global-observatory-on-health-research-and-development/monitoring/trends-and-volume-of-peer-reviewed-publications-for-neglected-diseases-and-r-d-blueprint-pathogens) related to WHO list of neglected tropical diseases and R&D Blueprint pathogens, plus malaria, tuberculosis and HIV/AIDS. I don't know how to get the data, though publications by country are actually appearing"
   ]
  },
  {
   "cell_type": "code",
   "execution_count": null,
   "metadata": {},
   "outputs": [],
   "source": []
  },
  {
   "cell_type": "markdown",
   "metadata": {},
   "source": [
    "### Antimicrobials in the pipeline\n",
    "\n",
    "Antimicrobials being developed in [preclinical stages](https://www.who.int/observatories/global-observatory-on-health-research-and-development/monitoring/who-antibacterial-preclinical-pipeline-review)"
   ]
  },
  {
   "cell_type": "code",
   "execution_count": 31,
   "metadata": {},
   "outputs": [
    {
     "data": {
      "text/plain": [
       "<BarContainer object of 6 artists>"
      ]
     },
     "execution_count": 31,
     "metadata": {},
     "output_type": "execute_result"
    },
    {
     "data": {
      "image/png": "[encoded data removed]",
      "text/plain": [
       "<Figure size 354.5x250 with 1 Axes>"
      ]
     },
     "metadata": {},
     "output_type": "display_data"
    }
   ],
   "source": [
    "df = pd.read_excel(os.path.join(DATAPATH, \"who_preclinical_antibacterial_products_data_2022.xlsx\"), sheet_name=\"PreclinicalAntibacterialProduct\")\n",
    "df.columns\n",
    "df_ = df.groupby(\"WHO region\").nunique()\n",
    "data={}\n",
    "for i,row in df_.iterrows():\n",
    "    data[i] = row[\"Unique identifier number\"]\n",
    "data[\"Africa\"] = 0\n",
    "data[\"Eastern Mediterranean\"] = 0 \n",
    "\n",
    "order = [\"Europe\", \"Eastern Mediterranean\", \"Western Pacific\", \"Americas\", \"South-East Asia\", \"Africa\"]\n",
    "data = {k: data[k] for k in order if k in data}\n",
    "\n",
    "fig, axs = st.create_figure(1,1, width=(TWO_COLUMNS_WIDTH/2), height=2.5)\n",
    "ax = axs[0]\n",
    "x = [textwrap.fill(label, 10) for label in data.keys()]\n",
    "ax.bar(x, data.values(), color=colors[:7])"
   ]
  },
  {
   "cell_type": "markdown",
   "metadata": {},
   "source": [
    "## Infectious vs non communicable\n",
    "We can plto several statistics of the resources going into communicable vs non communicable diseases"
   ]
  },
  {
   "cell_type": "markdown",
   "metadata": {},
   "source": []
  }
 ],
 "metadata": {
  "kernelspec": {
   "display_name": "chem",
   "language": "python",
   "name": "python3"
  },
  "language_info": {
   "codemirror_mode": {
    "name": "ipython",
    "version": 3
   },
   "file_extension": ".py",
   "mimetype": "text/x-python",
   "name": "python",
   "nbconvert_exporter": "python",
   "pygments_lexer": "ipython3",
   "version": "3.11.8"
  }
 },
 "nbformat": 4,
 "nbformat_minor": 2
}
