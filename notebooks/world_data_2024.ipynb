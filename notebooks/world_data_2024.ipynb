{
 "cells": [
  {
   "cell_type": "code",
   "execution_count": 1,
   "metadata": {},
   "outputs": [],
   "source": [
    "import os\n",
    "import pandas as pd\n",
    "import numpy as np\n",
    "\n",
    "DATAPATH = \"../data/world_data_2024\""
   ]
  },
  {
   "cell_type": "markdown",
   "metadata": {},
   "source": [
    "# Data sources\n",
    "\n",
    "- original country list and world bank classification: WHO, including region (countries_list.csv)\n",
    "- updated population numbers (2023) by the world bank (worldbank_worldpop_2023.csv): https://data.worldbank.org/indicator/SP.POP.TOTL\n",
    "- researcher per million habitants by the world bank (worldbank_researcherpermillion.csv): https://data.worldbank.org/indicator/SP.POP.SCIE.RD.P6?end=2022&start=2012\n",
    "- Bulk data download on science metrics from the UIS (UNESCO)(SCN-SDG): https://uis.unesco.org/bdds\n"
   ]
  },
  {
   "cell_type": "code",
   "execution_count": 85,
   "metadata": {},
   "outputs": [],
   "source": [
    "# Cleanup region names\n",
    "df = pd.read_csv(os.path.join(DATAPATH, \"countries_list.csv\"))\n",
    "df[\"who_region\"] = df[\"who_region\"].replace(\"Region of the Americas\", \"Americas\")\n",
    "df[df[\"who_region\"]==\"Unknown\"]\n",
    "country2region = {\"American Samoa\":\"Western Pacific\",\n",
    "                  \"Bermuda\": \"Americas\",\n",
    "                  \"Greenland\": \"Americas\",\n",
    "                  \"Guam\": \"Western Pacific\",\n",
    "                  \"Northern Mariana Islands\": \"Western Pacific\",\n",
    "                  \"Palestine\": \"Eastern Mediterranean\",\n",
    "                  \"Taiwan (Province of China)\": \"Western Pacific\",\n",
    "                  \"Turkey\": \"European\",\n",
    "                  \"United Kingdom\":\"European\",\n",
    "                  \"United States Virgin Islands\": \"Americas\"}\n",
    "df[\"who_region\"] = df.apply(lambda row: country2region.get(row[\"country\"], row[\"who_region\"]) if row[\"who_region\"] == \"Unknown\" else row[\"who_region\"], axis=1)"
   ]
  },
  {
   "cell_type": "code",
   "execution_count": 86,
   "metadata": {},
   "outputs": [],
   "source": [
    "#woroldbank data includes regions mixed with the countries. It will be cleaned up by matching with the original WHO data\n",
    "df_wb = pd.read_csv(os.path.join(DATAPATH, \"worldbank_worldpop_2023.csv\"))\n",
    "missing_countries = set(df[\"country\"].tolist()) - set(df_wb[\"Country Name\"].tolist())\n",
    "country_correction = {\n",
    "    \"Bahamas, The\":'Bahamas',\n",
    "    \"Bolivia\":'Bolivia (Plurinational State of)',\n",
    "    \"Congo, Rep.\":'Congo',\n",
    "    \"Cote d'Ivoire\":\"Côte d'Ivoire\",\n",
    "    \"Korea, Dem. People's Rep.\":\"Democratic People's Republic of Korea\",\n",
    "    \"Congo, Dem. Rep.\":'Democratic Republic of the Congo',\n",
    "    \"Egypt, Arab Rep.\":'Egypt',\n",
    "    \"Gambia, The\":'Gambia',\n",
    "    \"Iran, Islamic Rep.\":'Iran (Islamic Republic of)',\n",
    "    \"Kyrgyz Republic\":'Kyrgyzstan',\n",
    "    \"Lao PDR\":\"Lao People's Democratic Republic\",\n",
    "    \"Micronesia, Fed. Sts.\":'Micronesia (Federated States of)',\n",
    "    \"West Bank and Gaza\":'Palestine',\n",
    "    \"Korea, Rep.\":'Republic of Korea',\n",
    "    \"Moldova\":'Republic of Moldova',\n",
    "    \"St. Kitts and Nevis\":'Saint Kitts and Nevis',\n",
    "    \"St. Lucia\":'Saint Lucia',\n",
    "    \"St. Vincent and the Grenadines\":'Saint Vincent and the Grenadines',\n",
    "    \"Slovak Republic\":'Slovakia',\n",
    "    \"Turkiye\":'Turkey',\n",
    "    \"Tanzania\":'United Republic of Tanzania',\n",
    "    \"Virgin Islands (U.S.)\":'United States Virgin Islands',\n",
    "    \"United States\":'United States of America',\n",
    "    \"Venezuela, RB\":'Venezuela (Bolivarian Republic of)',\n",
    "    \"Yemen, Rep.\":'Yemen'}\n",
    "non_existent_wb = [\"Cook Islands\", \"Niue\", \"Tokelau\", \"Taiwan (Province of China)\"]\n",
    "\n",
    "df_wb[\"Country Name\"] = df_wb[\"Country Name\"].replace(country_correction)\n",
    "df_wb.rename(columns={\"Country Name\": \"country\"}, inplace=True)\n",
    "\n",
    "df = df[~df[\"country\"].isin(non_existent_wb)] #eliminate the regions/countries not in WB data\n",
    "\n",
    "df = pd.merge(df, df_wb[['country', '2023']], on='country', how='left')\n",
    "df['population'] = df['2023']\n",
    "df.drop(columns=['2023'], inplace=True)"
   ]
  },
  {
   "cell_type": "code",
   "execution_count": 87,
   "metadata": {},
   "outputs": [
    {
     "name": "stdout",
     "output_type": "stream",
     "text": [
      "47\n"
     ]
    },
    {
     "data": {
      "text/plain": [
       "income\n",
       "LIC     21\n",
       "LMIC    19\n",
       "UMIC     5\n",
       "HIC      2\n",
       "Name: count, dtype: int64"
      ]
     },
     "execution_count": 87,
     "metadata": {},
     "output_type": "execute_result"
    }
   ],
   "source": [
    "# African Region Stats\n",
    "afr = df[df[\"who_region\"]==\"African\"]\n",
    "print(len(afr))\n",
    "afr[\"income\"].value_counts()"
   ]
  },
  {
   "cell_type": "markdown",
   "metadata": {},
   "source": [
    "# Researchers per million\n",
    "Is one of the tracked measures for the advancement of the SDG 9.5 (9.5 Enhance scientific research, upgrade the technological capabilities of industrial sectors in all countries, in particular developing countries, including, by 2030, encouraging innovation and substantially increasing the number of research and development workers per 1 million people and public and private research and development spending)"
   ]
  },
  {
   "cell_type": "code",
   "execution_count": 94,
   "metadata": {},
   "outputs": [],
   "source": [
    "rpm = pd.read_csv(os.path.join(DATAPATH, \"worldbank_researcherpermillion.csv\"))\n",
    "rpm = rpm[['Country Name', '2018', '2019', '2020', '2021' , '2022', '2023']]\n",
    "rpm[\"Country Name\"] = rpm[\"Country Name\"].replace(country_correction)\n",
    "rpm.rename(columns={\"Country Name\": \"country\"}, inplace=True)\n",
    "df_ = pd.merge(df, rpm, on='country', how='left')"
   ]
  },
  {
   "cell_type": "code",
   "execution_count": 96,
   "metadata": {},
   "outputs": [
    {
     "data": {
      "text/plain": [
       "country        0\n",
       "code           0\n",
       "population     0\n",
       "income         0\n",
       "who_region     0\n",
       "2018          41\n",
       "2019          41\n",
       "2020          44\n",
       "2021          44\n",
       "2022          43\n",
       "2023          47\n",
       "dtype: int64"
      ]
     },
     "execution_count": 96,
     "metadata": {},
     "output_type": "execute_result"
    }
   ],
   "source": [
    "df_afr = df_[df_[\"who_region\"]==\"African\"]\n",
    "df_afr.isna().sum()"
   ]
  },
  {
   "cell_type": "markdown",
   "metadata": {},
   "source": [
    "# Global Burden of Death\n",
    "- Plot overview: https://ourworldindata.org/burden-of-disease\n",
    "- Source data: "
   ]
  },
  {
   "cell_type": "code",
   "execution_count": null,
   "metadata": {},
   "outputs": [],
   "source": []
  },
  {
   "cell_type": "code",
   "execution_count": null,
   "metadata": {},
   "outputs": [],
   "source": []
  },
  {
   "cell_type": "code",
   "execution_count": null,
   "metadata": {},
   "outputs": [],
   "source": []
  }
 ],
 "metadata": {
  "kernelspec": {
   "display_name": "chem",
   "language": "python",
   "name": "python3"
  },
  "language_info": {
   "codemirror_mode": {
    "name": "ipython",
    "version": 3
   },
   "file_extension": ".py",
   "mimetype": "text/x-python",
   "name": "python",
   "nbconvert_exporter": "python",
   "pygments_lexer": "ipython3",
   "version": "3.11.8"
  }
 },
 "nbformat": 4,
 "nbformat_minor": 2
}
